{
 "cells": [
  {
   "cell_type": "code",
   "execution_count": null,
   "metadata": {},
   "outputs": [],
   "source": [
    "import torch\n",
    "import numpy as np\n",
    "from matplotlib import pyplot as plt\n",
    "from sklearn.manifold import TSNE"
   ]
  },
  {
   "cell_type": "code",
   "execution_count": null,
   "metadata": {},
   "outputs": [],
   "source": [
    "def visualize_latent(model, active_dataset, cfg):\n",
    "    nr_of_samples = 2500\n",
    "    device = cfg.device\n",
    "\n",
    "    all_DL = active_dataset.get_loader('train', batch_size=nr_of_samples, shuffle=True)\n",
    "    all_iter = iter(all_DL)\n",
    "    x, y = next(all_iter)\n",
    "    x = x.to(device)\n",
    "\n",
    "    latent = model.latent_param(x)\n",
    "\n",
    "    X_embedded_mu_logvar = TSNE(n_components=2, early_exaggeration=70, perplexity=30,\n",
    "                      learning_rate=500, init='pca', n_iter=5000, n_iter_without_progress=300, verbose=5,\n",
    "                      random_state=0).fit_transform(torch.reshape(latent, (nr_of_samples, -1)))\n",
    "\n",
    "    fig, ax = plt.subplots()\n",
    "    plt.title('Latent space of mu and logvar')\n",
    "    cmap = plt.cm.get_cmap('tab10', 10)\n",
    "    plt.scatter(x=X_embedded_mu_logvar[:, 0], y=X_embedded_mu_logvar[:, 1], c=y, s=20, cmap=cmap)\n",
    "    plt.colorbar()\n",
    "    plt.savefig('save/latent_visual_mu_logvar.png')\n",
    "\n",
    "    mu = model.latent_mu(x)\n",
    "\n",
    "    X_embedded_mu = TSNE(n_components=2, early_exaggeration=70, perplexity=30,\n",
    "                      learning_rate=500, init='pca', n_iter=5000, n_iter_without_progress=300, verbose=5,\n",
    "                      random_state=0).fit_transform(mu)\n",
    "\n",
    "    fig, ax = plt.subplots()\n",
    "    plt.title('Latent space of mu')\n",
    "    cmap = plt.cm.get_cmap('tab10', 10)\n",
    "    plt.scatter(x=X_embedded_mu[:, 0], y=X_embedded_mu[:, 1], c=y, s=20, cmap=cmap)\n",
    "    plt.colorbar()\n",
    "    plt.savefig('save/latent_visual_mu.png')"
   ]
  }
 ],
 "metadata": {
  "language_info": {
   "name": "python"
  },
  "orig_nbformat": 4
 },
 "nbformat": 4,
 "nbformat_minor": 2
}
