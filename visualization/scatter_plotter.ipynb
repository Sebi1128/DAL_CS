{
 "cells": [
  {
   "cell_type": "markdown",
   "id": "641214e0",
   "metadata": {},
   "source": [
    "Deep Active Learning with Contrastive Sampling\n",
    "\n",
    "Deep Learning Project for Deep Learning Course (263-3210-00L)  \n",
    "by Department of Computer Science, ETH Zurich, Autumn Semester 2021 \n",
    "\n",
    "Authors:  \n",
    "Sebastian Frey (sefrey@student.ethz.ch)  \n",
    "Remo Kellenberger (remok@student.ethz.ch)  \n",
    "Aron Schmied (aronsch@student.ethz.ch)  \n",
    "Guney Tombak (gtombak@student.ethz.ch)  "
   ]
  },
  {
   "cell_type": "markdown",
   "id": "aa77fed5",
   "metadata": {},
   "source": [
    "# Latent Space Scatter Plot\n",
    "This notebook is for visualizing the latent space and to observe how and which samples are sampled by our sampling strategy"
   ]
  },
  {
   "cell_type": "code",
   "execution_count": 1,
   "id": "afd98f39",
   "metadata": {},
   "outputs": [],
   "source": [
    "import os\n",
    "cwd = os.getcwd()\n",
    "os.chdir(\"..\")\n",
    "\n",
    "from src.data import ActiveDataset\n",
    "from src.model import Net\n",
    "from src.base_models.samplers import CAL\n",
    "from utils import ModelWriter\n",
    "import yaml\n",
    "import torch\n",
    "from torch.nn.functional import normalize\n",
    "import wandb\n",
    "from utils import config_defaulter\n",
    "from scipy.special import kl_div\n",
    "from sklearn.manifold import TSNE\n",
    "import matplotlib.pyplot as plt\n",
    "from matplotlib.lines import Line2D"
   ]
  },
  {
   "cell_type": "markdown",
   "id": "d0b50ef6",
   "metadata": {},
   "source": [
    "## Load Model & Data"
   ]
  },
  {
   "cell_type": "code",
   "execution_count": 6,
   "id": "24c9a088",
   "metadata": {},
   "outputs": [
    {
     "name": "stdout",
     "output_type": "stream",
     "text": [
      "Constructing Active Dataset for fmnist:\n"
     ]
    },
    {
     "name": "stderr",
     "output_type": "stream",
     "text": [
      "C:\\Users\\schmi\\Envs\\DLProj\\lib\\site-packages\\torchvision\\datasets\\mnist.py:498: UserWarning: The given NumPy array is not writeable, and PyTorch does not support non-writeable tensors. This means you can write to the underlying (supposedly non-writeable) NumPy array using the tensor. You may want to copy the array to protect its data or make it writeable before converting it to a tensor. This type of warning will be suppressed for the rest of this program. (Triggered internally at  ..\\torch\\csrc\\utils\\tensor_numpy.cpp:180.)\n",
      "  return torch.from_numpy(parsed.astype(m[2], copy=False)).view(*s)\n",
      "Global seed set to 42\n"
     ]
    },
    {
     "name": "stdout",
     "output_type": "stream",
     "text": [
      "Device is cpu\n",
      "Seed has been set to 42...\n"
     ]
    },
    {
     "data": {
      "text/plain": [
       "<All keys matched successfully>"
      ]
     },
     "execution_count": 6,
     "metadata": {},
     "output_type": "execute_result"
    }
   ],
   "source": [
    "device = 'cpu'\n",
    "dataset_name = 'fmnist'\n",
    "init_lbl_ratio = 0.1\n",
    "val_ratio = 0.1\n",
    "seed = 42\n",
    "\n",
    "yaml_path = os.path.join(cwd, 'cal_sampling_config.yaml')\n",
    "\n",
    "with open(yaml_path) as file:\n",
    "    config = yaml.load(file, Loader=yaml.FullLoader)\n",
    "    config['cls']['output_size'] = 10\n",
    "\n",
    "smp_config = {\n",
    "  'name': 'cal',\n",
    "  'n_neighs': 10,\n",
    "  'neigh_dist': 'kldiv'\n",
    "}\n",
    "\n",
    "active_dataset = ActiveDataset(\n",
    "    dataset_name,\n",
    "    init_lbl_ratio=init_lbl_ratio,\n",
    "    val_ratio=val_ratio,\n",
    "    seed=seed\n",
    ")\n",
    "\n",
    "sampler = CAL(smp_config, device)\n",
    "\n",
    "wandb.init(config=config, project=\"Deep Learning Project\", entity=\"active_learners\", mode=\"disabled\") \n",
    "cfg = wandb.config\n",
    "\n",
    "cfg = config_defaulter(cfg)\n",
    "\n",
    "model = Net(cfg)\n",
    "model.load_state_dict(\n",
    "    torch.load(\n",
    "        'vae_training/pretrained_models/fmnist_vae8_scatter/best_acc_weights.pth', \n",
    "        map_location=torch.device('cpu')\n",
    "    )\n",
    ")"
   ]
  },
  {
   "cell_type": "markdown",
   "id": "fa8ae80c",
   "metadata": {},
   "source": [
    "## Prepare Data"
   ]
  },
  {
   "cell_type": "code",
   "execution_count": 3,
   "id": "e9f17b7e",
   "metadata": {},
   "outputs": [],
   "source": [
    "batch_size = 32\n",
    "n_lab = 10\n",
    "n_unlab = 10\n",
    "\n",
    "labeled_data = active_dataset.get_loader('labeled', batch_size=batch_size)\n",
    "unlabeled_data = active_dataset.get_loader('unlabeled', batch_size=batch_size)\n",
    "\n",
    "z_lab = []\n",
    "p_lab = []\n",
    "z_unlab = []\n",
    "p_unlab = []\n",
    "c_lab = []\n",
    "c_unlab = []\n",
    "\n",
    "i = 0\n",
    "for x, c in labeled_data:\n",
    "    x = x.to(device)\n",
    "    z = model.latent_param(x)\n",
    "    z_lab.append(z)\n",
    "    p = model.classify(x)\n",
    "    p_lab.append(p)\n",
    "    c_lab.append(c)\n",
    "    i += 1\n",
    "    if i > n_lab:\n",
    "        break\n",
    "i = 0\n",
    "for x, c in unlabeled_data:\n",
    "    x = x.to(device)\n",
    "    z = model.latent_param(x)\n",
    "    z_unlab.append(z)\n",
    "    p = model.classify(x)\n",
    "    p_unlab.append(p)\n",
    "    c_unlab.append(c)\n",
    "    i += 1\n",
    "    if i > n_unlab:\n",
    "        break\n",
    "        \n",
    "z_lab = torch.cat(z_lab)\n",
    "p_lab = normalize(torch.exp(torch.cat(p_lab)), p=1)\n",
    "c_lab = torch.cat(c_lab)\n",
    "z_unlab = torch.cat(z_unlab)\n",
    "p_unlab = normalize(torch.exp(torch.cat(p_unlab)), p=1)\n",
    "c_unlab = torch.cat(c_unlab)\n",
    "\n",
    "# filter\n",
    "cls_filter = [0, 1, 2]\n",
    "lab_filter = sum([c_lab == cls for cls in cls_filter]) == 1\n",
    "unlab_filter = sum([c_unlab == cls for cls in cls_filter]) == 1\n",
    "z_lab = z_lab[lab_filter]\n",
    "p_lab = p_lab[lab_filter]\n",
    "c_lab = c_lab[lab_filter]\n",
    "z_unlab =  z_unlab[unlab_filter]\n",
    "p_unlab =  p_unlab[unlab_filter]\n",
    "c_unlab = c_unlab[unlab_filter]"
   ]
  },
  {
   "cell_type": "markdown",
   "id": "d8b79c16",
   "metadata": {},
   "source": [
    "## Apply CAL"
   ]
  },
  {
   "cell_type": "code",
   "execution_count": 4,
   "id": "d87bc1d2",
   "metadata": {},
   "outputs": [],
   "source": [
    "def find_neighs(p, A, n_neigh):\n",
    "    dist = neigh_dist_func(p, A)\n",
    "    return torch.argsort(dist)[:n_neigh]\n",
    "\n",
    "def gaussian_kl_div(mu_p, log_var_p, mu_q, log_var_q):\n",
    "    \"\"\"KL(Q||P) where Q, P ~ N(mu_1:k, diag(sigma2_1:k))\"\"\"\n",
    "    return 0.5*(torch.exp(-log_var_q)*(torch.exp(log_var_p) + (mu_q-mu_p)**2) - 1 + log_var_q - log_var_p).sum(1)\n",
    "\n",
    "\n",
    "def gaussian_symmetric_kl_div(mu_p, log_var_p, mu_q, log_var_q):\n",
    "    \"\"\"KL(Q||P)-KL(P||Q) where Q, P ~ N(mu_1:k, diag(sigma2_1:k))\"\"\"\n",
    "    return 0.5*(torch.exp(-log_var_q)*(torch.exp(log_var_p) + (mu_q-mu_p)**2)\n",
    "                + torch.exp(-log_var_p)*(torch.exp(log_var_q) + (mu_p-mu_q)**2) -2).sum(1)\n",
    "\n",
    "neigh_dist = 'kldiv'\n",
    "n_neighs = 10\n",
    "acq_size = 5\n",
    "\n",
    "\n",
    "dist_func = lambda y_l, y_p: kl_div(y_l.cpu().detach(), y_p.cpu().detach()).sum(1)\n",
    "\n",
    "if neigh_dist == 'l2':\n",
    "    neigh_dist_func = lambda p, A: torch.sum((p[..., 0] - A[..., 0]) ** 2, axis=1)\n",
    "elif neigh_dist == 'kldiv':\n",
    "    neigh_dist_func = lambda p, A: gaussian_kl_div(p[..., 0], p[..., 1], A[..., 0], A[..., 1])\n",
    "elif neigh_dist == 'sym_kldiv':\n",
    "    neigh_dist_func = lambda p, A: gaussian_symmetric_kl_div(p[..., 0], p[..., 1], A[..., 0], A[..., 1])\n",
    "    \n",
    "\n",
    "\n",
    "score = torch.zeros((len(p_unlab)))\n",
    "\n",
    "for i in range(len(p_unlab)):\n",
    "    idxs_neigh = find_neighs(z_unlab[i].unsqueeze(0), z_lab, n_neighs)\n",
    "    score[i] = dist_func(p_lab[idxs_neigh], p_unlab[i].unsqueeze(0)).mean()\n",
    "\n",
    "_, querry_indices = torch.topk(score, acq_size)\n",
    "unlbld_idx = torch.where(torch.logical_not(active_dataset.lbld_mask))[0]"
   ]
  },
  {
   "cell_type": "markdown",
   "id": "e49d4d40",
   "metadata": {},
   "source": [
    "## Plot"
   ]
  },
  {
   "cell_type": "code",
   "execution_count": 6,
   "id": "b433c080",
   "metadata": {},
   "outputs": [
    {
     "name": "stderr",
     "output_type": "stream",
     "text": [
      "C:\\Users\\schmi\\Envs\\DLProj\\lib\\site-packages\\sklearn\\manifold\\_t_sne.py:780: FutureWarning: The default initialization in TSNE will change from 'random' to 'pca' in 1.2.\n",
      "  warnings.warn(\n",
      "C:\\Users\\schmi\\Envs\\DLProj\\lib\\site-packages\\sklearn\\manifold\\_t_sne.py:790: FutureWarning: The default learning rate in TSNE will change from 200.0 to 'auto' in 1.2.\n",
      "  warnings.warn(\n",
      "*c* argument looks like a single numeric RGB or RGBA sequence, which should be avoided as value-mapping will have precedence in case its length matches with *x* & *y*.  Please use the *color* keyword-argument or provide a 2D array with a single row if you intend to specify the same RGB or RGBA value for all points.\n"
     ]
    },
    {
     "data": {
      "image/png": "[encoded data removed]",
      "text/plain": [
       "<Figure size 432x288 with 1 Axes>"
      ]
     },
     "metadata": {
      "needs_background": "light"
     },
     "output_type": "display_data"
    }
   ],
   "source": [
    "random_state = 0\n",
    "def plt_props():\n",
    "    plt.rcParams['font.size'] = 12\n",
    "    plt.rcParams['axes.labelsize'] = 12\n",
    "    plt.rcParams['font.family'] = 'serif'\n",
    "    plt.rcParams['font.style'] = 'normal'\n",
    "    plt.rcParams['font.variant'] = 'normal' \n",
    "    plt.rcParams['xtick.labelsize'] = 12\n",
    "    plt.rcParams['ytick.labelsize'] = 12\n",
    "    plt.rcParams['legend.fontsize'] = 10\n",
    "    plt.rcParams['figure.titlesize'] = 12\n",
    "    plt.rcParams['figure.figsize'] = 6, 4\n",
    "    plt.rcParams['lines.linewidth'] = 1\n",
    "    plt.rcParams['lines.markersize'] = 8\n",
    "    plt.locator_params(axis='x', nbins=5)\n",
    "\n",
    "all_latent = torch.cat((z_lab[..., 0],z_unlab[..., 0]))\n",
    "all_classes = torch.cat((c_lab, torch.ones(len(z_unlab))*10))\n",
    "\n",
    "X_embedded_mu = TSNE(n_components=2,random_state=random_state).fit_transform(all_latent)\n",
    "\n",
    "cmap = plt.cm.get_cmap('tab20', 11)\n",
    "\n",
    "gt_classes = torch.cat((c_lab, c_unlab))\n",
    "pred = torch.cat((p_lab, p_unlab))[..., cls_filter]\n",
    "pred_classes = pred.argmax(dim=1)\n",
    "pred_prob = pred.max(dim=1)[0]\n",
    "\n",
    "marker_colors = cmap(pred_classes.type(torch.int))\n",
    "marker_colors[:, -1] *= pred_prob.detach().numpy()\n",
    "marker_colors[:, -1] /= marker_colors[:, -1].max()\n",
    "edge_colors = cmap(gt_classes.type(torch.int))\n",
    "\n",
    "# -----------------------\n",
    "\n",
    "plt_props()\n",
    "\n",
    "plt.grid()\n",
    "plt.rc('axes', axisbelow=True)\n",
    "\n",
    "a = plt.scatter(\n",
    "    x=X_embedded_mu[:, 0], \n",
    "    y=X_embedded_mu[:, 1], \n",
    "    c=marker_colors, \n",
    "    s=30, \n",
    "    edgecolor=edge_colors,\n",
    "    cmap=cmap\n",
    ")\n",
    "b = plt.scatter(\n",
    "    x=X_embedded_mu[-len(score):, 0], \n",
    "    y=X_embedded_mu[-len(score):, 1], \n",
    "    s=20*score,\n",
    "    marker='x',\n",
    "    c='#000000'\n",
    ")\n",
    "c = plt.scatter(\n",
    "    x=X_embedded_mu[len(p_lab) + querry_indices, 0], \n",
    "    y=X_embedded_mu[len(p_lab) + querry_indices, 1], \n",
    "    s=150,\n",
    "    marker='o',\n",
    "    c=[0, 0, 0, 0],\n",
    "    edgecolor='#000000'\n",
    ")\n",
    "\n",
    "\n",
    "legend_markers = [\n",
    "    Line2D([0], [0], marker='o', color='w', markeredgecolor=cmap(0), markerfacecolor=cmap(0), markersize=7),\n",
    "    Line2D([0], [0], marker='o', color='w', markeredgecolor=cmap(1), markerfacecolor=cmap(1), markersize=7),\n",
    "    Line2D([0], [0], marker='o', color='w', markeredgecolor=cmap(2), markerfacecolor=cmap(2), markersize=7),\n",
    "    Line2D([0], [0], marker='o', color='w', markeredgecolor=cmap(0), markerfacecolor='w', markersize=7),\n",
    "    Line2D([0], [0], marker='o', color='w', markeredgecolor='w', markerfacecolor=list(cmap(1)[0:3])+ [0.5], markersize=7),\n",
    "    b,\n",
    "    (b, c)\n",
    "]\n",
    "\n",
    "legend_text = [\n",
    "    'T-shirt/top',\n",
    "    'Trouser',\n",
    "    'Pullover',\n",
    "    'Gt dp class',\n",
    "    'Pred. dp class',\n",
    "    'Unlabeled dp',\n",
    "    'Sampled dp'\n",
    "]\n",
    "\n",
    "plt.legend(legend_markers, legend_text)\n",
    "plt.title('Fashion MNIST - Latent Space')\n",
    "\n",
    "plt.draw()\n",
    "plt.savefig(\"scatter.pdf\")\n",
    "plt.show()"
   ]
  }
 ],
 "metadata": {
  "kernelspec": {
   "display_name": "Python 3 (ipykernel)",
   "language": "python",
   "name": "python3"
  },
  "language_info": {
   "codemirror_mode": {
    "name": "ipython",
    "version": 3
   },
   "file_extension": ".py",
   "mimetype": "text/x-python",
   "name": "python",
   "nbconvert_exporter": "python",
   "pygments_lexer": "ipython3",
   "version": "3.9.6"
  }
 },
 "nbformat": 4,
 "nbformat_minor": 5
}
